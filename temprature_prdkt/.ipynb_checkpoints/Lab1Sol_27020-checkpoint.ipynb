{
 "cells": [
  {
   "cell_type": "markdown",
   "metadata": {},
   "source": [
    "# Lab 1\n",
    "\n",
    "### Objectives\n",
    "1. Get introduced to numpy\n",
    "2. Be able to load and use data frames using pandas\n",
    "3. Plot results using matplotlib"
   ]
  },
  {
   "cell_type": "markdown",
   "metadata": {},
   "source": [
    "## Numpy\n",
    "You could use the [numpy quickstart guide](https://docs.scipy.org/doc/numpy/user/quickstart.html) to help you getting started"
   ]
  },
  {
   "cell_type": "code",
   "execution_count": 2,
   "metadata": {},
   "outputs": [],
   "source": [
    "import numpy as np"
   ]
  },
  {
   "cell_type": "markdown",
   "metadata": {},
   "source": [
    "#### Exercise 1-1: Create an array of 10 zeros and 10 ones"
   ]
  },
  {
   "cell_type": "code",
   "execution_count": 2,
   "metadata": {},
   "outputs": [],
   "source": [
    "arr1 = np.zeros(10)\n",
    "arr2 = np.ones(10)"
   ]
  },
  {
   "cell_type": "markdown",
   "metadata": {},
   "source": [
    "#### Add both arrays and multiply the result with an array of 10 fives"
   ]
  },
  {
   "cell_type": "code",
   "execution_count": 3,
   "metadata": {},
   "outputs": [
    {
     "data": {
      "text/plain": [
       "array([5., 5., 5., 5., 5., 5., 5., 5., 5., 5.])"
      ]
     },
     "execution_count": 3,
     "metadata": {},
     "output_type": "execute_result"
    }
   ],
   "source": [
    "np.array([5]*10,dtype=int) * (arr1 + arr2)"
   ]
  },
  {
   "cell_type": "markdown",
   "metadata": {},
   "source": [
    "#### Exercise 1-2: Create an array of integers from 1-100 inclusive"
   ]
  },
  {
   "cell_type": "code",
   "execution_count": 3,
   "metadata": {},
   "outputs": [
    {
     "data": {
      "text/plain": [
       "array([  1,   2,   3,   4,   5,   6,   7,   8,   9,  10,  11,  12,  13,\n",
       "        14,  15,  16,  17,  18,  19,  20,  21,  22,  23,  24,  25,  26,\n",
       "        27,  28,  29,  30,  31,  32,  33,  34,  35,  36,  37,  38,  39,\n",
       "        40,  41,  42,  43,  44,  45,  46,  47,  48,  49,  50,  51,  52,\n",
       "        53,  54,  55,  56,  57,  58,  59,  60,  61,  62,  63,  64,  65,\n",
       "        66,  67,  68,  69,  70,  71,  72,  73,  74,  75,  76,  77,  78,\n",
       "        79,  80,  81,  82,  83,  84,  85,  86,  87,  88,  89,  90,  91,\n",
       "        92,  93,  94,  95,  96,  97,  98,  99, 100])"
      ]
     },
     "execution_count": 3,
     "metadata": {},
     "output_type": "execute_result"
    }
   ],
   "source": [
    "np.arange(1,101,dtype=int)"
   ]
  },
  {
   "cell_type": "markdown",
   "metadata": {},
   "source": [
    "#### Exercise 1-3: Now create another but of floating points"
   ]
  },
  {
   "cell_type": "code",
   "execution_count": 5,
   "metadata": {},
   "outputs": [
    {
     "data": {
      "text/plain": [
       "array([  0.,   1.,   2.,   3.,   4.,   5.,   6.,   7.,   8.,   9.,  10.,\n",
       "        11.,  12.,  13.,  14.,  15.,  16.,  17.,  18.,  19.,  20.,  21.,\n",
       "        22.,  23.,  24.,  25.,  26.,  27.,  28.,  29.,  30.,  31.,  32.,\n",
       "        33.,  34.,  35.,  36.,  37.,  38.,  39.,  40.,  41.,  42.,  43.,\n",
       "        44.,  45.,  46.,  47.,  48.,  49.,  50.,  51.,  52.,  53.,  54.,\n",
       "        55.,  56.,  57.,  58.,  59.,  60.,  61.,  62.,  63.,  64.,  65.,\n",
       "        66.,  67.,  68.,  69.,  70.,  71.,  72.,  73.,  74.,  75.,  76.,\n",
       "        77.,  78.,  79.,  80.,  81.,  82.,  83.,  84.,  85.,  86.,  87.,\n",
       "        88.,  89.,  90.,  91.,  92.,  93.,  94.,  95.,  96.,  97.,  98.,\n",
       "        99., 100.])"
      ]
     },
     "execution_count": 5,
     "metadata": {},
     "output_type": "execute_result"
    }
   ],
   "source": [
    "np.arange(0,101,dtype=float)"
   ]
  },
  {
   "cell_type": "markdown",
   "metadata": {},
   "source": [
    "#### Exercise 1-4: Create an array of all even integers from 1-100 inclusive"
   ]
  },
  {
   "cell_type": "code",
   "execution_count": 6,
   "metadata": {},
   "outputs": [
    {
     "data": {
      "text/plain": [
       "array([  2,   4,   6,   8,  10,  12,  14,  16,  18,  20,  22,  24,  26,\n",
       "        28,  30,  32,  34,  36,  38,  40,  42,  44,  46,  48,  50,  52,\n",
       "        54,  56,  58,  60,  62,  64,  66,  68,  70,  72,  74,  76,  78,\n",
       "        80,  82,  84,  86,  88,  90,  92,  94,  96,  98, 100])"
      ]
     },
     "execution_count": 6,
     "metadata": {},
     "output_type": "execute_result"
    }
   ],
   "source": [
    "np.arange(2,101,2)"
   ]
  },
  {
   "cell_type": "markdown",
   "metadata": {},
   "source": [
    "#### Exercise 1-5: Create a 5x3 matrix with values ranging from 0 to 10"
   ]
  },
  {
   "cell_type": "code",
   "execution_count": 7,
   "metadata": {},
   "outputs": [
    {
     "data": {
      "text/plain": [
       "array([[2.72731217, 2.8792111 , 2.00007289],\n",
       "       [9.70479189, 3.61239581, 5.82990146],\n",
       "       [3.95012042, 2.6625381 , 1.65846236],\n",
       "       [6.46857824, 4.98845202, 5.58155293],\n",
       "       [7.00067767, 1.76006824, 9.16381394]])"
      ]
     },
     "execution_count": 7,
     "metadata": {},
     "output_type": "execute_result"
    }
   ],
   "source": [
    "(np.random.rand(15)*10).reshape(5,3)"
   ]
  },
  {
   "cell_type": "markdown",
   "metadata": {},
   "source": [
    "#### Exercise 1-6: Create an identity matrix of 5"
   ]
  },
  {
   "cell_type": "code",
   "execution_count": 8,
   "metadata": {},
   "outputs": [
    {
     "data": {
      "text/plain": [
       "array([[1., 0., 0., 0., 0.],\n",
       "       [0., 1., 0., 0., 0.],\n",
       "       [0., 0., 1., 0., 0.],\n",
       "       [0., 0., 0., 1., 0.],\n",
       "       [0., 0., 0., 0., 1.]])"
      ]
     },
     "execution_count": 8,
     "metadata": {},
     "output_type": "execute_result"
    }
   ],
   "source": [
    "np.eye(5)"
   ]
  },
  {
   "cell_type": "markdown",
   "metadata": {},
   "source": [
    "#### Exercise 1-7: Generate a random number between 0 and 1"
   ]
  },
  {
   "cell_type": "code",
   "execution_count": 9,
   "metadata": {},
   "outputs": [
    {
     "data": {
      "text/plain": [
       "0.6639890282964648"
      ]
     },
     "execution_count": 9,
     "metadata": {},
     "output_type": "execute_result"
    }
   ],
   "source": [
    "np.random.rand()"
   ]
  },
  {
   "cell_type": "markdown",
   "metadata": {},
   "source": [
    "#### Exercise 1-8: Generate an array of 10 random numbers sub-sampled using normal distribution"
   ]
  },
  {
   "cell_type": "code",
   "execution_count": 10,
   "metadata": {},
   "outputs": [
    {
     "data": {
      "text/plain": [
       "array([-1.84094056, -1.28715266,  1.83596489,  0.82634493, -0.93553433,\n",
       "       -1.73615369,  1.79656227, -0.44970309, -1.67379577, -0.74437815])"
      ]
     },
     "execution_count": 10,
     "metadata": {},
     "output_type": "execute_result"
    }
   ],
   "source": [
    "np.random.randn(10)"
   ]
  },
  {
   "cell_type": "markdown",
   "metadata": {},
   "source": [
    "#### Exercise 1-9: Create an array of evenly spaced intervals between 0-10"
   ]
  },
  {
   "cell_type": "code",
   "execution_count": 11,
   "metadata": {},
   "outputs": [
    {
     "data": {
      "text/plain": [
       "array([ 0. ,  2.5,  5. ,  7.5, 10. ])"
      ]
     },
     "execution_count": 11,
     "metadata": {},
     "output_type": "execute_result"
    }
   ],
   "source": [
    "np.linspace(0,10,5)"
   ]
  },
  {
   "cell_type": "markdown",
   "metadata": {},
   "source": [
    "#### Exercise 1-10: Create a matrix of evenly spaced intervals between 0-100"
   ]
  },
  {
   "cell_type": "code",
   "execution_count": 12,
   "metadata": {},
   "outputs": [
    {
     "data": {
      "text/plain": [
       "array([[  1.   ,   5.125,   9.25 ,  13.375,  17.5  ],\n",
       "       [ 21.625,  25.75 ,  29.875,  34.   ,  38.125],\n",
       "       [ 42.25 ,  46.375,  50.5  ,  54.625,  58.75 ],\n",
       "       [ 62.875,  67.   ,  71.125,  75.25 ,  79.375],\n",
       "       [ 83.5  ,  87.625,  91.75 ,  95.875, 100.   ]])"
      ]
     },
     "execution_count": 12,
     "metadata": {},
     "output_type": "execute_result"
    }
   ],
   "source": [
    "np.linspace(1,100,25).reshape(5,5)"
   ]
  },
  {
   "cell_type": "markdown",
   "metadata": {},
   "source": [
    "### Given the below matrix:"
   ]
  },
  {
   "cell_type": "code",
   "execution_count": 13,
   "metadata": {},
   "outputs": [
    {
     "data": {
      "text/plain": [
       "array([[ 1,  2,  3,  4,  5],\n",
       "       [ 6,  7,  8,  9, 10],\n",
       "       [11, 12, 13, 14, 15],\n",
       "       [16, 17, 18, 19, 20],\n",
       "       [21, 22, 23, 24, 25]])"
      ]
     },
     "execution_count": 13,
     "metadata": {},
     "output_type": "execute_result"
    }
   ],
   "source": [
    "refMat = np.arange(1,26).reshape(5,5)\n",
    "refMat"
   ]
  },
  {
   "cell_type": "markdown",
   "metadata": {},
   "source": [
    "#### Exercise 1-11: print 20 using its corresponding indices"
   ]
  },
  {
   "cell_type": "code",
   "execution_count": 14,
   "metadata": {},
   "outputs": [
    {
     "data": {
      "text/plain": [
       "20"
      ]
     },
     "execution_count": 14,
     "metadata": {},
     "output_type": "execute_result"
    }
   ],
   "source": [
    "refMat[3, 4]"
   ]
  },
  {
   "cell_type": "markdown",
   "metadata": {},
   "source": [
    "#### Exercise 1-12"
   ]
  },
  {
   "cell_type": "code",
   "execution_count": 15,
   "metadata": {},
   "outputs": [
    {
     "name": "stdout",
     "output_type": "stream",
     "text": [
      "[[1 2 3]\n",
      " [6 7 8]]\n",
      "[[ 7  8  9]\n",
      " [12 13 14]\n",
      " [17 18 19]]\n",
      "[[14 15]\n",
      " [19 20]\n",
      " [24 25]]\n"
     ]
    }
   ],
   "source": [
    "print(refMat[:2, :3])\n",
    "print(refMat[1:4, 1:4])\n",
    "print(refMat[2:, 3:])"
   ]
  },
  {
   "cell_type": "markdown",
   "metadata": {},
   "source": [
    "#### Exercise 1-13"
   ]
  },
  {
   "cell_type": "code",
   "execution_count": 16,
   "metadata": {},
   "outputs": [
    {
     "name": "stdout",
     "output_type": "stream",
     "text": [
      "[[ 2]\n",
      " [ 7]\n",
      " [12]]\n",
      "[[ 3]\n",
      " [ 8]\n",
      " [13]\n",
      " [18]\n",
      " [23]]\n",
      "[[21 22 23 24 25]]\n",
      "[[18 19 20]]\n"
     ]
    }
   ],
   "source": [
    "print(refMat[:3, 1:2])\n",
    "print(refMat[:, 2:3])\n",
    "print(refMat[4:5, :])\n",
    "print(refMat[3:4, 2:])"
   ]
  },
  {
   "cell_type": "markdown",
   "metadata": {},
   "source": [
    "#### Exercise 1-14"
   ]
  },
  {
   "cell_type": "code",
   "execution_count": 17,
   "metadata": {},
   "outputs": [
    {
     "name": "stdout",
     "output_type": "stream",
     "text": [
      "325\n",
      "[ 15  40  65  90 115]\n",
      "[55 60 65 70 75]\n",
      "[  1   3   6  10  15  21  28  36  45  55  66  78  91 105 120 136 153 171\n",
      " 190 210 231 253 276 300 325]\n",
      "7.211102550927978\n",
      "1\n",
      "0\n",
      "25\n",
      "24\n"
     ]
    }
   ],
   "source": [
    "print(np.sum(refMat))\n",
    "print(np.sum(refMat, axis=1))\n",
    "print(np.sum(refMat, axis=0))\n",
    "print(np.cumsum(refMat))\n",
    "print(np.std(refMat))\n",
    "print(np.min(refMat))\n",
    "print(np.argmin(refMat))\n",
    "print(np.max(refMat))\n",
    "print(np.argmax(refMat))"
   ]
  },
  {
   "cell_type": "markdown",
   "metadata": {},
   "source": [
    "## Pandas\n",
    "#### You could use the [10 minutes to pandas](https://pandas.pydata.org/pandas-docs/stable/10min.html#min) guide to get started "
   ]
  },
  {
   "cell_type": "code",
   "execution_count": 16,
   "metadata": {},
   "outputs": [],
   "source": [
    "import pandas as pd"
   ]
  },
  {
   "cell_type": "markdown",
   "metadata": {},
   "source": [
    "#### Exercise 1-15:\n",
    "1. Download and read the \"Ecommerce_Purchases.csv\" file.\n",
    "2. Display the number of rows, columns and check the head of the DataFrame."
   ]
  },
  {
   "cell_type": "code",
   "execution_count": 4,
   "metadata": {},
   "outputs": [
    {
     "name": "stdout",
     "output_type": "stream",
     "text": [
      "<class 'pandas.core.frame.DataFrame'>\n",
      "RangeIndex: 10000 entries, 0 to 9999\n",
      "Data columns (total 14 columns):\n",
      "Address             10000 non-null object\n",
      "Lot                 10000 non-null object\n",
      "AM or PM            10000 non-null object\n",
      "Browser Info        10000 non-null object\n",
      "Company             10000 non-null object\n",
      "Credit Card         10000 non-null int64\n",
      "CC Exp Date         10000 non-null object\n",
      "CC Security Code    10000 non-null int64\n",
      "CC Provider         10000 non-null object\n",
      "Email               10000 non-null object\n",
      "Job                 10000 non-null object\n",
      "IP Address          10000 non-null object\n",
      "Language            10000 non-null object\n",
      "Purchase Price      10000 non-null float64\n",
      "dtypes: float64(1), int64(2), object(11)\n",
      "memory usage: 1.1+ MB\n",
      "None\n",
      "                                             Address    Lot AM or PM  \\\n",
      "0  16629 Pace Camp Apt. 448\\nAlexisborough, NE 77...  46 in       PM   \n",
      "1  9374 Jasmine Spurs Suite 508\\nSouth John, TN 8...  28 rn       PM   \n",
      "2                   Unit 0065 Box 5052\\nDPO AP 27450  94 vE       PM   \n",
      "3              7780 Julia Fords\\nNew Stacy, WA 45798  36 vm       PM   \n",
      "4  23012 Munoz Drive Suite 337\\nNew Cynthia, TX 5...  20 IE       AM   \n",
      "\n",
      "                                        Browser Info  \\\n",
      "0  Opera/9.56.(X11; Linux x86_64; sl-SI) Presto/2...   \n",
      "1  Opera/8.93.(Windows 98; Win 9x 4.90; en-US) Pr...   \n",
      "2  Mozilla/5.0 (compatible; MSIE 9.0; Windows NT ...   \n",
      "3  Mozilla/5.0 (Macintosh; Intel Mac OS X 10_8_0 ...   \n",
      "4  Opera/9.58.(X11; Linux x86_64; it-IT) Presto/2...   \n",
      "\n",
      "                           Company       Credit Card CC Exp Date  \\\n",
      "0                  Martinez-Herman  6011929061123406       02/20   \n",
      "1  Fletcher, Richards and Whitaker  3337758169645356       11/18   \n",
      "2       Simpson, Williams and Pham      675957666125       08/19   \n",
      "3  Williams, Marshall and Buchanan  6011578504430710       02/24   \n",
      "4        Brown, Watson and Andrews  6011456623207998       10/25   \n",
      "\n",
      "   CC Security Code                  CC Provider  \\\n",
      "0               900                 JCB 16 digit   \n",
      "1               561                   Mastercard   \n",
      "2               699                 JCB 16 digit   \n",
      "3               384                     Discover   \n",
      "4               678  Diners Club / Carte Blanche   \n",
      "\n",
      "                            Email                                     Job  \\\n",
      "0               pdunlap@yahoo.com  Scientist, product/process development   \n",
      "1              anthony41@reed.com                       Drilling engineer   \n",
      "2  amymiller@morales-harrison.com                Customer service manager   \n",
      "3     brent16@olson-robinson.info                       Drilling engineer   \n",
      "4     christopherwright@gmail.com                             Fine artist   \n",
      "\n",
      "        IP Address Language  Purchase Price  \n",
      "0  149.146.147.205       el           98.14  \n",
      "1     15.160.41.51       fr           70.73  \n",
      "2   132.207.160.22       de            0.95  \n",
      "3     30.250.74.19       es           78.04  \n",
      "4     24.140.33.94       es           77.82  \n"
     ]
    }
   ],
   "source": [
    "# !!!!!!!!!!!!!!!!!!!!!!!!!\n",
    "# Ecommerce_Purchases.csv isn't available\n",
    "\n",
    "\n",
    "ecom = pd.read_csv('Ecommerce_Purchases.csv')\n",
    "print(ecom.info())\n",
    "print(ecom.head())"
   ]
  },
  {
   "cell_type": "markdown",
   "metadata": {},
   "source": [
    "#### Exercise 1-16:\n",
    "1. Display the maximum, minimum and the average of the purchase price.\n",
    "2. Display the number of people who have french ’fr’ listed as their language of choice.\n",
    "3. Display the number of people who have ’Musician’ listed as their profession."
   ]
  },
  {
   "cell_type": "code",
   "execution_count": 32,
   "metadata": {},
   "outputs": [
    {
     "name": "stdout",
     "output_type": "stream",
     "text": [
      "        Credit Card  CC Security Code  Purchase Price\n",
      "count  1.000000e+04      10000.000000    10000.000000\n",
      "mean   2.341374e+15        907.217800       50.347302\n",
      "std    2.256103e+15       1589.693035       29.015836\n",
      "min    6.040186e+10          0.000000        0.000000\n",
      "25%    3.056322e+13        280.000000       25.150000\n",
      "50%    8.699942e+14        548.000000       50.505000\n",
      "75%    4.492298e+15        816.000000       75.770000\n",
      "max    6.012000e+15       9993.000000       99.990000\n",
      "average purchase price:\n",
      "50.347302\n",
      "number of people who have french ’fr’ listed as their language of choice:\n",
      "False    8903\n",
      "True     1097\n",
      "Name: Language, dtype: int64\n",
      "number of people who have ’Musician’ listed as their profession:\n",
      "False    9979\n",
      "True       21\n",
      "Name: Job, dtype: int64\n"
     ]
    }
   ],
   "source": [
    "ecom.shape\n",
    "print(ecom.describe())\n",
    "print(\"average purchase price:\\n{0}\".format(ecom['Purchase Price'].sum() / ecom.shape[0]))\n",
    "print(\"number of people who have french ’fr’ listed as their language of choice:\\n{0}\".format((ecom['Language'] == 'fr').value_counts()))\n",
    "print(\"number of people who have ’Musician’ listed as their profession:\\n{0}\".format((ecom['Job'] == 'Musician').value_counts()))"
   ]
  },
  {
   "cell_type": "markdown",
   "metadata": {},
   "source": [
    "#### Exercise 1-17:\n",
    "1. Compare the number of purchases made during day and night.\n",
    "2. Display the top 5 most common jobs."
   ]
  },
  {
   "cell_type": "code",
   "execution_count": 33,
   "metadata": {},
   "outputs": [
    {
     "name": "stdout",
     "output_type": "stream",
     "text": [
      "PM    5068\n",
      "AM    4932\n",
      "Name: AM or PM, dtype: int64\n",
      "Interior and spatial designer        31\n",
      "Lawyer                               30\n",
      "Social researcher                    28\n",
      "Designer, jewellery                  27\n",
      "Research officer, political party    27\n",
      "Name: Job, dtype: int64\n"
     ]
    }
   ],
   "source": [
    "print(ecom['AM or PM'].value_counts())\n",
    "print(ecom['Job'].value_counts().head(5))"
   ]
  },
  {
   "cell_type": "markdown",
   "metadata": {},
   "source": [
    "#### Exercise 1-18:\n",
    "1. Display the purchase price for the transaction that came from lot ’24 RZ’.\n",
    "2. Display the CC information [CC,Exp-Date,Code] for this email ’kking@wise-liu.com’."
   ]
  },
  {
   "cell_type": "code",
   "execution_count": 34,
   "metadata": {},
   "outputs": [
    {
     "data": {
      "text/plain": [
       "21    90.93\n",
       "Name: Purchase Price, dtype: float64"
      ]
     },
     "execution_count": 34,
     "metadata": {},
     "output_type": "execute_result"
    }
   ],
   "source": [
    "ecom[ecom['Lot']=='24 RZ']['Purchase Price']"
   ]
  },
  {
   "cell_type": "code",
   "execution_count": 28,
   "metadata": {},
   "outputs": [
    {
     "name": "stdout",
     "output_type": "stream",
     "text": [
      "CC exp date of kking@wise-liu.com:\n",
      "9991    02/24\n",
      "Name: CC Exp Date, dtype: object\n",
      "CC provider of kking@wise-liu.com:\n",
      "9991    Voyager\n",
      "Name: CC Provider, dtype: object\n",
      "CC security code of kking@wise-liu.com:\n",
      "9991    969\n",
      "Name: CC Security Code, dtype: int64\n"
     ]
    }
   ],
   "source": [
    "print(\"CC exp date of kking@wise-liu.com:\\n{0}\".format(ecom[ecom['Email'] == \"kking@wise-liu.com\"]['CC Exp Date']))\n",
    "print(\"CC provider of kking@wise-liu.com:\\n{0}\".format(ecom[ecom['Email'] == \"kking@wise-liu.com\"]['CC Provider']))\n",
    "print(\"CC security code of kking@wise-liu.com:\\n{0}\".format(ecom[ecom['Email'] == \"kking@wise-liu.com\"]['CC Security Code']))"
   ]
  },
  {
   "cell_type": "markdown",
   "metadata": {},
   "source": [
    "#### Exercise 1-19:\n",
    "Display the number of people who made a purchase >25$ using a mastercard."
   ]
  },
  {
   "cell_type": "code",
   "execution_count": 47,
   "metadata": {},
   "outputs": [
    {
     "data": {
      "text/plain": [
       "Address             600\n",
       "Lot                 600\n",
       "AM or PM            600\n",
       "Browser Info        600\n",
       "Company             600\n",
       "Credit Card         600\n",
       "CC Exp Date         600\n",
       "CC Security Code    600\n",
       "CC Provider         600\n",
       "Email               600\n",
       "Job                 600\n",
       "IP Address          600\n",
       "Language            600\n",
       "Purchase Price      600\n",
       "dtype: int64"
      ]
     },
     "execution_count": 47,
     "metadata": {},
     "output_type": "execute_result"
    }
   ],
   "source": [
    "ecom[(ecom['CC Provider'] == 'Mastercard') & (ecom['Purchase Price'] > 25)].count()"
   ]
  },
  {
   "cell_type": "markdown",
   "metadata": {},
   "source": [
    "#### Exercise 1-20:\n",
    "1. Display the number of people whose credit card expires in 2022.\n",
    "2. Display the Engineering jobs sorted in order of the mean of their purchases.\n",
    "3. Display the top 3 jobs sorted in descending order of the sum of their purchases."
   ]
  },
  {
   "cell_type": "code",
   "execution_count": 53,
   "metadata": {},
   "outputs": [
    {
     "name": "stdout",
     "output_type": "stream",
     "text": [
      "Address             996\n",
      "Lot                 996\n",
      "AM or PM            996\n",
      "Browser Info        996\n",
      "Company             996\n",
      "Credit Card         996\n",
      "CC Exp Date         996\n",
      "CC Security Code    996\n",
      "CC Provider         996\n",
      "Email               996\n",
      "Job                 996\n",
      "IP Address          996\n",
      "Language            996\n",
      "Purchase Price      996\n",
      "dtype: int64\n",
      "Job\n",
      "Electrical engineer                     62.058947\n",
      "Network engineer                        56.869200\n",
      "Automotive engineer                     56.250455\n",
      "Biomedical engineer                     54.783810\n",
      "Civil engineer, consulting              54.515000\n",
      "Software engineer                       54.115000\n",
      "Petroleum engineer                      54.018095\n",
      "Mining engineer                         52.877619\n",
      "Materials engineer                      52.764118\n",
      "Geologist, engineering                  52.494000\n",
      "Technical sales engineer                52.471500\n",
      "Manufacturing engineer                  50.410833\n",
      "Drilling engineer                       50.243810\n",
      "Maintenance engineer                    49.921250\n",
      "Contracting civil engineer              49.097619\n",
      "Chemical engineer                       49.024118\n",
      "Electronics engineer                    48.795333\n",
      "Building services engineer              47.052143\n",
      "Aeronautical engineer                   46.975833\n",
      "Water engineer                          46.762000\n",
      "Broadcast engineer                      46.702727\n",
      "Communications engineer                 45.533333\n",
      "Site engineer                           45.058462\n",
      "Structural engineer                     44.810952\n",
      "Agricultural engineer                   44.687692\n",
      "Consulting civil engineer               44.562308\n",
      "Production engineer                     44.321667\n",
      "Control and instrumentation engineer    43.527222\n",
      "Civil engineer, contracting             42.057500\n",
      "Mechanical engineer                     41.826000\n",
      "Manufacturing systems engineer          41.192727\n",
      "Energy engineer                         40.552500\n",
      "Name: Purchase Price, dtype: float64\n",
      "Job\n",
      "Dietitian             1605.30\n",
      "Lawyer                1603.85\n",
      "Purchasing manager    1577.97\n",
      "Name: Purchase Price, dtype: float64\n"
     ]
    }
   ],
   "source": [
    "print(ecom[ecom['CC Exp Date'].apply(lambda x: x[3:]=='22')].count())\n",
    "\n",
    "Y = ecom[ecom['Job'].apply(lambda x: 'engineer' in x)].groupby('Job').mean()\n",
    "newY = Y.sort_values(by=['Purchase Price'],ascending=[False])\n",
    "print(newY['Purchase Price'])\n",
    "\n",
    "X = ecom.groupby('Job').sum()\n",
    "newX = X.sort_values(by=['Purchase Price'], ascending=[False])\n",
    "print(newX['Purchase Price'].head(3))"
   ]
  },
  {
   "cell_type": "markdown",
   "metadata": {},
   "source": [
    "## Matplotlib\n",
    "#### This [PyPlot tutorial](https://matplotlib.org/users/pyplot_tutorial.html) will help you through the next section"
   ]
  },
  {
   "cell_type": "code",
   "execution_count": 4,
   "metadata": {},
   "outputs": [],
   "source": [
    "import matplotlib.pyplot as plt\n",
    "\n",
    "x = np.arange(0,100)\n",
    "fx = x * 2\n",
    "y = x ** 2\n",
    "z = x ** 3"
   ]
  },
  {
   "cell_type": "markdown",
   "metadata": {},
   "source": [
    "#### Exercise 1-22"
   ]
  },
  {
   "cell_type": "code",
   "execution_count": 62,
   "metadata": {},
   "outputs": [
    {
     "data": {
      "image/png": "[encoded data removed]",
      "text/plain": [
       "<Figure size 432x288 with 1 Axes>"
      ]
     },
     "metadata": {},
     "output_type": "display_data"
    }
   ],
   "source": [
    "fig = plt.figure()\n",
    "\n",
    "ax = fig.add_axes([0.1,0.1,0.8,0.8])\n",
    "\n",
    "ax.set_xlabel('X')\n",
    "ax.set_ylabel('f(x)')\n",
    "ax.set_title('f(x) vs x')\n",
    "ax.plot(x,fx)\n",
    "\n",
    "plt.show()"
   ]
  },
  {
   "cell_type": "markdown",
   "metadata": {},
   "source": [
    "#### Exercise 1-23, 1-24"
   ]
  },
  {
   "cell_type": "code",
   "execution_count": 63,
   "metadata": {},
   "outputs": [
    {
     "data": {
      "image/png": "[encoded data removed]",
      "text/plain": [
       "<Figure size 432x288 with 2 Axes>"
      ]
     },
     "metadata": {},
     "output_type": "display_data"
    }
   ],
   "source": [
    "fig = plt.figure()\n",
    "\n",
    "ax = fig.add_axes([0.1,0.1,0.8,0.8])\n",
    "ax.plot(x,fx,label='f(x)',color='red',ls='-')\n",
    "ax.plot(x,y,label='y',color='green',ls='--')\n",
    "ax.plot(x,z,label='z',color='blue',ls='-.')\n",
    "\n",
    "ax2 = fig.add_axes([0.2,0.5,0.3,0.3])\n",
    "ax2.plot(x,fx,label='f(x)',color='red',ls='-')\n",
    "ax2.plot(x,y,label='y',color='green',ls='--')\n",
    "ax2.plot(x,z,label='z',color='blue',ls='-.')\n",
    "ax2.set_xlim(0,10)\n",
    "ax2.set_ylim(0,50)\n",
    "ax2.set_title('zoom')\n",
    "ax2.legend(loc=0)\n",
    "\n",
    "plt.show()"
   ]
  },
  {
   "cell_type": "markdown",
   "metadata": {},
   "source": [
    "#### Exercise 1-25"
   ]
  },
  {
   "cell_type": "code",
   "execution_count": 12,
   "metadata": {},
   "outputs": [
    {
     "data": {
      "image/png": "[encoded data removed]",
      "text/plain": [
       "<matplotlib.figure.Figure at 0x7f027bd5fa90>"
      ]
     },
     "metadata": {},
     "output_type": "display_data"
    }
   ],
   "source": [
    "# fig = plt.figure()\n",
    "\n",
    "plt.subplot(221)\n",
    "plt.plot(x,fx)\n",
    "plt.xlabel('x')\n",
    "plt.ylabel('fx')\n",
    "\n",
    "plt.subplot(222)\n",
    "plt.plot(x,y,label='y',color='green',ls='--')\n",
    "\n",
    "plt.subplot(223)\n",
    "plt.plot(x,z,label='z',color='blue',ls='-.')\n",
    "\n",
    "plt.subplot(224)\n",
    "plt.plot(x,fx,label='f(x)',color='red',ls='-')\n",
    "plt.plot(x,y,label='y',color='green',ls='--')\n",
    "plt.plot(x,z,label='z',color='blue',ls='-.')\n",
    "plt.xlim(0,10)\n",
    "plt.ylim(0,50)\n",
    "plt.title('zoom')\n",
    "plt.legend(loc=0)\n",
    "\n",
    "plt.show()"
   ]
  },
  {
   "cell_type": "markdown",
   "metadata": {},
   "source": [
    "#### Exercise 1-26"
   ]
  },
  {
   "cell_type": "code",
   "execution_count": 13,
   "metadata": {},
   "outputs": [
    {
     "name": "stderr",
     "output_type": "stream",
     "text": [
      "/usr/lib/python3.5/importlib/_bootstrap.py:222: RuntimeWarning: numpy.dtype size changed, may indicate binary incompatibility. Expected 96, got 88\n",
      "  return f(*args, **kwds)\n",
      "/usr/lib/python3.5/importlib/_bootstrap.py:222: RuntimeWarning: numpy.dtype size changed, may indicate binary incompatibility. Expected 96, got 88\n",
      "  return f(*args, **kwds)\n",
      "/usr/lib/python3.5/importlib/_bootstrap.py:222: RuntimeWarning: numpy.dtype size changed, may indicate binary incompatibility. Expected 96, got 88\n",
      "  return f(*args, **kwds)\n"
     ]
    }
   ],
   "source": [
    "import seaborn as sns"
   ]
  },
  {
   "cell_type": "code",
   "execution_count": 17,
   "metadata": {},
   "outputs": [],
   "source": [
    "df = pd.read_csv(\"USA_Housing.csv\")"
   ]
  },
  {
   "cell_type": "code",
   "execution_count": 18,
   "metadata": {
    "scrolled": true
   },
   "outputs": [
    {
     "data": {
      "text/html": [
       "<div>\n",
       "<style>\n",
       "    .dataframe thead tr:only-child th {\n",
       "        text-align: right;\n",
       "    }\n",
       "\n",
       "    .dataframe thead th {\n",
       "        text-align: left;\n",
       "    }\n",
       "\n",
       "    .dataframe tbody tr th {\n",
       "        vertical-align: top;\n",
       "    }\n",
       "</style>\n",
       "<table border=\"1\" class=\"dataframe\">\n",
       "  <thead>\n",
       "    <tr style=\"text-align: right;\">\n",
       "      <th></th>\n",
       "      <th>Avg. Area Income</th>\n",
       "      <th>Avg. Area House Age</th>\n",
       "      <th>Avg. Area Number of Rooms</th>\n",
       "      <th>Avg. Area Number of Bedrooms</th>\n",
       "      <th>Area Population</th>\n",
       "      <th>Price</th>\n",
       "    </tr>\n",
       "  </thead>\n",
       "  <tbody>\n",
       "    <tr>\n",
       "      <th>Avg. Area Income</th>\n",
       "      <td>1.000000</td>\n",
       "      <td>-0.002007</td>\n",
       "      <td>-0.011032</td>\n",
       "      <td>0.019788</td>\n",
       "      <td>-0.016234</td>\n",
       "      <td>0.639734</td>\n",
       "    </tr>\n",
       "    <tr>\n",
       "      <th>Avg. Area House Age</th>\n",
       "      <td>-0.002007</td>\n",
       "      <td>1.000000</td>\n",
       "      <td>-0.009428</td>\n",
       "      <td>0.006149</td>\n",
       "      <td>-0.018743</td>\n",
       "      <td>0.452543</td>\n",
       "    </tr>\n",
       "    <tr>\n",
       "      <th>Avg. Area Number of Rooms</th>\n",
       "      <td>-0.011032</td>\n",
       "      <td>-0.009428</td>\n",
       "      <td>1.000000</td>\n",
       "      <td>0.462695</td>\n",
       "      <td>0.002040</td>\n",
       "      <td>0.335664</td>\n",
       "    </tr>\n",
       "    <tr>\n",
       "      <th>Avg. Area Number of Bedrooms</th>\n",
       "      <td>0.019788</td>\n",
       "      <td>0.006149</td>\n",
       "      <td>0.462695</td>\n",
       "      <td>1.000000</td>\n",
       "      <td>-0.022168</td>\n",
       "      <td>0.171071</td>\n",
       "    </tr>\n",
       "    <tr>\n",
       "      <th>Area Population</th>\n",
       "      <td>-0.016234</td>\n",
       "      <td>-0.018743</td>\n",
       "      <td>0.002040</td>\n",
       "      <td>-0.022168</td>\n",
       "      <td>1.000000</td>\n",
       "      <td>0.408556</td>\n",
       "    </tr>\n",
       "    <tr>\n",
       "      <th>Price</th>\n",
       "      <td>0.639734</td>\n",
       "      <td>0.452543</td>\n",
       "      <td>0.335664</td>\n",
       "      <td>0.171071</td>\n",
       "      <td>0.408556</td>\n",
       "      <td>1.000000</td>\n",
       "    </tr>\n",
       "  </tbody>\n",
       "</table>\n",
       "</div>"
      ],
      "text/plain": [
       "                              Avg. Area Income  Avg. Area House Age  \\\n",
       "Avg. Area Income                      1.000000            -0.002007   \n",
       "Avg. Area House Age                  -0.002007             1.000000   \n",
       "Avg. Area Number of Rooms            -0.011032            -0.009428   \n",
       "Avg. Area Number of Bedrooms          0.019788             0.006149   \n",
       "Area Population                      -0.016234            -0.018743   \n",
       "Price                                 0.639734             0.452543   \n",
       "\n",
       "                              Avg. Area Number of Rooms  \\\n",
       "Avg. Area Income                              -0.011032   \n",
       "Avg. Area House Age                           -0.009428   \n",
       "Avg. Area Number of Rooms                      1.000000   \n",
       "Avg. Area Number of Bedrooms                   0.462695   \n",
       "Area Population                                0.002040   \n",
       "Price                                          0.335664   \n",
       "\n",
       "                              Avg. Area Number of Bedrooms  Area Population  \\\n",
       "Avg. Area Income                                  0.019788        -0.016234   \n",
       "Avg. Area House Age                               0.006149        -0.018743   \n",
       "Avg. Area Number of Rooms                         0.462695         0.002040   \n",
       "Avg. Area Number of Bedrooms                      1.000000        -0.022168   \n",
       "Area Population                                  -0.022168         1.000000   \n",
       "Price                                             0.171071         0.408556   \n",
       "\n",
       "                                 Price  \n",
       "Avg. Area Income              0.639734  \n",
       "Avg. Area House Age           0.452543  \n",
       "Avg. Area Number of Rooms     0.335664  \n",
       "Avg. Area Number of Bedrooms  0.171071  \n",
       "Area Population               0.408556  \n",
       "Price                         1.000000  "
      ]
     },
     "execution_count": 18,
     "metadata": {},
     "output_type": "execute_result"
    }
   ],
   "source": [
    "corrmat = df.corr()\n",
    "corrmat"
   ]
  },
  {
   "cell_type": "code",
   "execution_count": 19,
   "metadata": {
    "scrolled": true
   },
   "outputs": [
    {
     "data": {
      "image/png": "[encoded data removed]",
      "text/plain": [
       "<matplotlib.figure.Figure at 0x7f027bd14b38>"
      ]
     },
     "metadata": {},
     "output_type": "display_data"
    }
   ],
   "source": [
    "# f, ax = plt.subplots(figsize=(12,9))\n",
    "# sns.heatmap(corrmat, vmax=.8, square=True)\n",
    "sns.heatmap(corrmat)\n",
    "plt.show()"
   ]
  }
 ],
 "metadata": {
  "kernelspec": {
   "display_name": "Python 3",
   "language": "python",
   "name": "python3"
  },
  "language_info": {
   "codemirror_mode": {
    "name": "ipython",
    "version": 3
   },
   "file_extension": ".py",
   "mimetype": "text/x-python",
   "name": "python",
   "nbconvert_exporter": "python",
   "pygments_lexer": "ipython3",
   "version": "3.6.5"
  }
 },
 "nbformat": 4,
 "nbformat_minor": 2
}
